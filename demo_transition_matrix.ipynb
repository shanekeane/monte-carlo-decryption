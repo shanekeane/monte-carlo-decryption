{
 "cells": [
  {
   "cell_type": "code",
   "execution_count": 1,
   "metadata": {},
   "outputs": [],
   "source": [
    "#Add folders as paths for importing files\n",
    "import sys, os\n",
    "PATH = os.getcwd()\n",
    "sys.path.insert(1, PATH + '/transition_matrix')\n",
    "\n",
    "#Import \n",
    "import numpy as np\n",
    "from transition_matrix import get_symbol_pairs, get_trans_matrix"
   ]
  },
  {
   "cell_type": "code",
   "execution_count": 9,
   "metadata": {},
   "outputs": [],
   "source": [
    "#Generate symbols, and get transition matrix and count of \n",
    "#symbols from War and Peace\n",
    "symbols = np.loadtxt('data/symbols.txt', dtype = 'str', delimiter = '#')\n",
    "trans_mat, symbc = get_trans_matrix('data/war_and_peace.txt', symbols)\n",
    "\n",
    "#Save for future use\n",
    "np.savetxt('data/transition_mat.txt', trans_mat)\n",
    "np.savetxt('data/symbol_count.txt', symbc)"
   ]
  }
 ],
 "metadata": {
  "kernelspec": {
   "display_name": "Python 3",
   "language": "python",
   "name": "python3"
  },
  "language_info": {
   "codemirror_mode": {
    "name": "ipython",
    "version": 3
   },
   "file_extension": ".py",
   "mimetype": "text/x-python",
   "name": "python",
   "nbconvert_exporter": "python",
   "pygments_lexer": "ipython3",
   "version": "3.9.7"
  }
 },
 "nbformat": 4,
 "nbformat_minor": 4
}
